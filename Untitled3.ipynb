{
  "nbformat": 4,
  "nbformat_minor": 0,
  "metadata": {
    "colab": {
      "provenance": [],
      "authorship_tag": "ABX9TyPnG4vdEwo9I73EyLtbCFu1",
      "include_colab_link": true
    },
    "kernelspec": {
      "name": "python3",
      "display_name": "Python 3"
    },
    "language_info": {
      "name": "python"
    }
  },
  "cells": [
    {
      "cell_type": "markdown",
      "metadata": {
        "id": "view-in-github",
        "colab_type": "text"
      },
      "source": [
        "<a href=\"https://colab.research.google.com/github/ishigamism-rgb/ishigamism/blob/main/Untitled3.ipynb\" target=\"_parent\"><img src=\"https://colab.research.google.com/assets/colab-badge.svg\" alt=\"Open In Colab\"/></a>"
      ]
    },
    {
      "cell_type": "code",
      "execution_count": null,
      "metadata": {
        "id": "guYfhS_P-oIc"
      },
      "outputs": [],
      "source": [
        "import random\n",
        "\n",
        "print(\"🎲 数当てゲームを始めます！\")\n",
        "answer = random.randint(1, 100)  # 1～100の中からランダムに選ぶ\n",
        "\n",
        "for i in range(7):  # 最大7回チャレンジ\n",
        "    guess = int(input(f\"{i+1}回目の予想 (1～100): \"))\n",
        "    if guess == answer:\n",
        "        print(\"🎉 正解！おめでとう！\")\n",
        "        break\n",
        "    elif guess < answer:\n",
        "        print(\"もっと大きい数です。\")\n",
        "    else:\n",
        "        print(\"もっと小さい数です。\")\n",
        "else:\n",
        "    print(f\"残念！正解は {answer} でした。\")"
      ]
    }
  ]
}